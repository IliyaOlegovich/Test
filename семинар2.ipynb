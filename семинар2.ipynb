{
  "nbformat": 4,
  "nbformat_minor": 0,
  "metadata": {
    "colab": {
      "provenance": [],
      "authorship_tag": "ABX9TyO/TlkfIdBIpddioQbzUNb0",
      "include_colab_link": true
    },
    "kernelspec": {
      "name": "python3",
      "display_name": "Python 3"
    },
    "language_info": {
      "name": "python"
    }
  },
  "cells": [
    {
      "cell_type": "markdown",
      "metadata": {
        "id": "view-in-github",
        "colab_type": "text"
      },
      "source": [
        "<a href=\"https://colab.research.google.com/github/IliyaOlegovich/Test/blob/main/%D1%81%D0%B5%D0%BC%D0%B8%D0%BD%D0%B0%D1%802.ipynb\" target=\"_parent\"><img src=\"https://colab.research.google.com/assets/colab-badge.svg\" alt=\"Open In Colab\"/></a>"
      ]
    },
    {
      "cell_type": "code",
      "execution_count": 1,
      "metadata": {
        "colab": {
          "base_uri": "https://localhost:8080/"
        },
        "id": "e64UzNJxJbGZ",
        "outputId": "ea1c4cf1-eb6f-4734-dd90-4f8626ee617c"
      },
      "outputs": [
        {
          "output_type": "stream",
          "name": "stdout",
          "text": [
            "2\n",
            "2\n",
            "0\n"
          ]
        }
      ],
      "source": [
        "a = int(input())\n",
        "b = int(input())\n",
        "c = a % b\n",
        "print(c)"
      ]
    },
    {
      "cell_type": "code",
      "source": [
        "a1,a2,a3 = input(), input(), input()"
      ],
      "metadata": {
        "colab": {
          "base_uri": "https://localhost:8080/"
        },
        "id": "-KObqtN-OKC0",
        "outputId": "88018926-f033-4dbe-fd8a-f6cc59c1308f"
      },
      "execution_count": 2,
      "outputs": [
        {
          "name": "stdout",
          "output_type": "stream",
          "text": [
            "5\n",
            "6\n",
            "7\n"
          ]
        }
      ]
    },
    {
      "cell_type": "code",
      "source": [
        "a,b,c = 5,6,7"
      ],
      "metadata": {
        "id": "DTJEGN0HOdmT"
      },
      "execution_count": 3,
      "outputs": []
    },
    {
      "cell_type": "code",
      "source": [
        "a = 5\n",
        "b = 6\n",
        "a,b = b,a\n",
        "print(a,b)"
      ],
      "metadata": {
        "colab": {
          "base_uri": "https://localhost:8080/"
        },
        "id": "6tVgS9KMOiBs",
        "outputId": "051b0234-9a4c-4a07-8471-a3400ef1619e"
      },
      "execution_count": 4,
      "outputs": [
        {
          "output_type": "stream",
          "name": "stdout",
          "text": [
            "6 5\n"
          ]
        }
      ]
    },
    {
      "cell_type": "markdown",
      "source": [
        "одной строчкой мы можем поменять в строочке значения переменноых\n"
      ],
      "metadata": {
        "id": "ow4L4n9COvcj"
      }
    },
    {
      "cell_type": "code",
      "source": [
        "broccole_lover = input(\"Любите ли броколи, ответте да или нет!\")\n",
        "if broccole_lover == \"да\":\n",
        "  print(\"Вы купили брокколи!\")\n",
        "else:\n",
        "  print(\"Вы не купили брокколи и были счастливы!\")"
      ],
      "metadata": {
        "colab": {
          "base_uri": "https://localhost:8080/"
        },
        "id": "Wd_XrGTFO1bj",
        "outputId": "914b4b8b-494c-4689-c1d4-d0b9e49a4150"
      },
      "execution_count": 10,
      "outputs": [
        {
          "output_type": "stream",
          "name": "stdout",
          "text": [
            "Любите ли броколи, ответте да или нет!да\n",
            "Вы купили брокколи!\n"
          ]
        }
      ]
    },
    {
      "cell_type": "code",
      "source": [
        "a = input(\"Ты любишь мороженое?\")\n",
        "if a == \"да\":\n",
        "  print(\"Держи мороженое!\")\n",
        "else:\n",
        "  print(\"Я не дам тебе мороженое!\")"
      ],
      "metadata": {
        "colab": {
          "base_uri": "https://localhost:8080/"
        },
        "id": "GO4beGv1QqQn",
        "outputId": "7132b22d-109f-4741-e07b-ca53d55bef1c"
      },
      "execution_count": 12,
      "outputs": [
        {
          "output_type": "stream",
          "name": "stdout",
          "text": [
            "Ты любишь мороженое?некогда\n",
            "Я не дам тебе мороженое!\n"
          ]
        }
      ]
    },
    {
      "cell_type": "code",
      "source": [
        "broccole_lover = input(\"Любите ли броколи, ответте да или нет!\")\n",
        "if broccole_lover == \"да\":\n",
        "  money = input(\"Деньги есть? Ответьте да или нет\")\n",
        "  if money ==\"да\":\n",
        "    print(\"Вы купили броколе\")\n",
        "  else:\n",
        "    print(\"У вас должны быть деньги!\")\n",
        "else:\n",
        "  print(\"Вы не купили брокколи!\")"
      ],
      "metadata": {
        "colab": {
          "base_uri": "https://localhost:8080/"
        },
        "id": "ZGECC65hRfrV",
        "outputId": "1eb8855c-8590-4b4c-e899-f824898e3537"
      },
      "execution_count": 64,
      "outputs": [
        {
          "output_type": "stream",
          "name": "stdout",
          "text": [
            "Любите ли броколи, ответте да или нет!да\n",
            "Деньги есть? Ответьте да или нетда\n",
            "Вы купили броколе\n"
          ]
        }
      ]
    },
    {
      "cell_type": "markdown",
      "source": [
        "Можно добавить в проверку условий еще одну проверку условий"
      ],
      "metadata": {
        "id": "wFNJwDRgSwIk"
      }
    },
    {
      "cell_type": "markdown",
      "source": [
        "отступ значит, этот принт пренадлежить этому ифу"
      ],
      "metadata": {
        "id": "Opbmn96CPc1c"
      }
    },
    {
      "cell_type": "code",
      "source": [
        "password = \"компас\"\n",
        "elit_pasword = \"шестиренка\"\n",
        "user_password = input(\"Введите пароль\")\n",
        "if user_password == password:\n",
        "  print(\"Вы прошли!\")\n",
        "elif user_pasword == elit_password:\n",
        "  print(\"Вы элитно прошли!\")\n",
        "else:\n",
        "  print(\"Пароль не верный\")"
      ],
      "metadata": {
        "colab": {
          "base_uri": "https://localhost:8080/",
          "height": 252
        },
        "id": "FgyU56XyTUDV",
        "outputId": "8a66624b-f74c-416a-8a92-8e4075591104"
      },
      "execution_count": 23,
      "outputs": [
        {
          "name": "stdout",
          "output_type": "stream",
          "text": [
            "Введите парольшестиренка\n"
          ]
        },
        {
          "output_type": "error",
          "ename": "NameError",
          "evalue": "ignored",
          "traceback": [
            "\u001b[0;31m---------------------------------------------------------------------------\u001b[0m",
            "\u001b[0;31mNameError\u001b[0m                                 Traceback (most recent call last)",
            "\u001b[0;32m<ipython-input-23-eb15988ba78f>\u001b[0m in \u001b[0;36m<module>\u001b[0;34m\u001b[0m\n\u001b[1;32m      4\u001b[0m \u001b[0;32mif\u001b[0m \u001b[0muser_password\u001b[0m \u001b[0;34m==\u001b[0m \u001b[0mpassword\u001b[0m\u001b[0;34m:\u001b[0m\u001b[0;34m\u001b[0m\u001b[0;34m\u001b[0m\u001b[0m\n\u001b[1;32m      5\u001b[0m   \u001b[0mprint\u001b[0m\u001b[0;34m(\u001b[0m\u001b[0;34m\"Вы прошли!\"\u001b[0m\u001b[0;34m)\u001b[0m\u001b[0;34m\u001b[0m\u001b[0;34m\u001b[0m\u001b[0m\n\u001b[0;32m----> 6\u001b[0;31m \u001b[0;32melif\u001b[0m \u001b[0muser_pasword\u001b[0m \u001b[0;34m==\u001b[0m \u001b[0melit_password\u001b[0m\u001b[0;34m:\u001b[0m\u001b[0;34m\u001b[0m\u001b[0;34m\u001b[0m\u001b[0m\n\u001b[0m\u001b[1;32m      7\u001b[0m   \u001b[0mprint\u001b[0m\u001b[0;34m(\u001b[0m\u001b[0;34m\"Вы элитно прошли!\"\u001b[0m\u001b[0;34m)\u001b[0m\u001b[0;34m\u001b[0m\u001b[0;34m\u001b[0m\u001b[0m\n\u001b[1;32m      8\u001b[0m \u001b[0;32melse\u001b[0m\u001b[0;34m:\u001b[0m\u001b[0;34m\u001b[0m\u001b[0;34m\u001b[0m\u001b[0m\n",
            "\u001b[0;31mNameError\u001b[0m: name 'user_pasword' is not defined"
          ]
        }
      ]
    },
    {
      "cell_type": "code",
      "source": [
        "password1 = \"заяц\"\n",
        "password2 = \"волк\"\n",
        "user_password = input(\"Введите пароль \")\n",
        "if password1 == user_password or password2 == user_password:\n",
        "  print(\"Вы прошли!\")\n",
        "else:\n",
        "  print(\"Уходи, ты чужой\")"
      ],
      "metadata": {
        "colab": {
          "base_uri": "https://localhost:8080/"
        },
        "id": "J293DqriVC9F",
        "outputId": "3d01b181-75b3-4ded-80fb-11791380c2c2"
      },
      "execution_count": 27,
      "outputs": [
        {
          "output_type": "stream",
          "name": "stdout",
          "text": [
            "Введите пароль фжыдлоам\n",
            "Уходи, ты чужой\n"
          ]
        }
      ]
    },
    {
      "cell_type": "code",
      "source": [
        "password1 = \"заяц\"\n",
        "password2 = \"волк\"\n",
        "user_password1 = input(\"Введите пароль 1: \")\n",
        "user_password2 = input(\"Введите пароль 2: \")\n",
        "if user_password1 == user_password1 and password2 == user_password2:\n",
        "  print(\"Вы прошли!\")\n",
        "else:\n",
        "  print(\"Уходи, ты чужой\")"
      ],
      "metadata": {
        "colab": {
          "base_uri": "https://localhost:8080/"
        },
        "id": "X_Sxz6HqV6dh",
        "outputId": "9fed0eab-b2e6-4cf4-c233-022b1d8e8bff"
      },
      "execution_count": 31,
      "outputs": [
        {
          "output_type": "stream",
          "name": "stdout",
          "text": [
            "Введите пароль 1: заяц\n",
            "Введите пароль 2: волк\n",
            "Вы прошли!\n"
          ]
        }
      ]
    },
    {
      "cell_type": "code",
      "source": [
        "slovo = input()\n",
        "if slovo[0] == \"М\" and slovo[-1] == \"Г\": \n",
        "  print(\"Хорошее слово\")\n",
        "else: print(\"Плохое слово\")"
      ],
      "metadata": {
        "colab": {
          "base_uri": "https://localhost:8080/"
        },
        "id": "3NXRhIroW6oN",
        "outputId": "bb956701-874c-470f-922a-5dbb9460dad8"
      },
      "execution_count": 35,
      "outputs": [
        {
          "output_type": "stream",
          "name": "stdout",
          "text": [
            "МАГ\n",
            "Хорошее слово\n"
          ]
        }
      ]
    },
    {
      "cell_type": "code",
      "source": [
        "​word = input(\"Введите слово:\")\n",
        "if word [0] == \"м\" and word[-1] == \"г\": \n",
        "  print(\"это хорошее слово\")\n",
        "else: \n",
        "  print(\"Это плохое слово\")"
      ],
      "metadata": {
        "colab": {
          "base_uri": "https://localhost:8080/",
          "height": 130
        },
        "id": "ywsv0ifhXeam",
        "outputId": "6eb89015-e70b-49c9-e37c-361fddf81082"
      },
      "execution_count": 34,
      "outputs": [
        {
          "output_type": "error",
          "ename": "SyntaxError",
          "evalue": "ignored",
          "traceback": [
            "\u001b[0;36m  File \u001b[0;32m\"<ipython-input-34-aa6ba86ac289>\"\u001b[0;36m, line \u001b[0;32m1\u001b[0m\n\u001b[0;31m    ​word = input(\"Введите слово:\")\u001b[0m\n\u001b[0m        ^\u001b[0m\n\u001b[0;31mSyntaxError\u001b[0m\u001b[0;31m:\u001b[0m invalid character in identifier\n"
          ]
        }
      ]
    },
    {
      "cell_type": "code",
      "source": [
        "slovo = input()\n",
        "if slovo[0] == \"М\" or slovo[-1] == \"Г\": \n",
        "  print(\"Хорошее слово\")\n",
        "else: \n",
        "  print(\"Плохое слово\")"
      ],
      "metadata": {
        "colab": {
          "base_uri": "https://localhost:8080/"
        },
        "id": "908SErjnYMd2",
        "outputId": "eae7e41c-4e17-44d2-bdbc-a1319b720b61"
      },
      "execution_count": 36,
      "outputs": [
        {
          "output_type": "stream",
          "name": "stdout",
          "text": [
            "магистрг\n",
            "Плохое слово\n"
          ]
        }
      ]
    },
    {
      "cell_type": "code",
      "source": [
        "name = \"oarognakefgqfoabhrfioanpiu\"\n",
        "print(len(name))"
      ],
      "metadata": {
        "colab": {
          "base_uri": "https://localhost:8080/"
        },
        "id": "PwtRQ8IBZINH",
        "outputId": "00275436-4235-4be2-c7aa-dffe9a8c5226"
      },
      "execution_count": 37,
      "outputs": [
        {
          "output_type": "stream",
          "name": "stdout",
          "text": [
            "26\n"
          ]
        }
      ]
    },
    {
      "cell_type": "code",
      "source": [
        "name = input()\n",
        "print(len(name))"
      ],
      "metadata": {
        "colab": {
          "base_uri": "https://localhost:8080/"
        },
        "id": "n8tKXf2ZZVJl",
        "outputId": "3ab7531e-2bf7-452d-aec4-086501fc087a"
      },
      "execution_count": 40,
      "outputs": [
        {
          "output_type": "stream",
          "name": "stdout",
          "text": [
            "4456\n",
            "4\n"
          ]
        }
      ]
    },
    {
      "cell_type": "code",
      "source": [
        "a = input()\n",
        "if a // 3:\n",
        "  print(\"Куртое число\")  \n",
        "else:\n",
        "  print(\"Плохое число\")"
      ],
      "metadata": {
        "colab": {
          "base_uri": "https://localhost:8080/",
          "height": 252
        },
        "id": "kL6GsGB2Zq4u",
        "outputId": "631a2fc4-6625-4c83-c337-19cdb0815564"
      },
      "execution_count": 46,
      "outputs": [
        {
          "name": "stdout",
          "output_type": "stream",
          "text": [
            "3\n"
          ]
        },
        {
          "output_type": "error",
          "ename": "TypeError",
          "evalue": "ignored",
          "traceback": [
            "\u001b[0;31m---------------------------------------------------------------------------\u001b[0m",
            "\u001b[0;31mTypeError\u001b[0m                                 Traceback (most recent call last)",
            "\u001b[0;32m<ipython-input-46-14d9e99e6e7e>\u001b[0m in \u001b[0;36m<module>\u001b[0;34m\u001b[0m\n\u001b[1;32m      1\u001b[0m \u001b[0ma\u001b[0m \u001b[0;34m=\u001b[0m \u001b[0minput\u001b[0m\u001b[0;34m(\u001b[0m\u001b[0;34m)\u001b[0m\u001b[0;34m\u001b[0m\u001b[0;34m\u001b[0m\u001b[0m\n\u001b[0;32m----> 2\u001b[0;31m \u001b[0;32mif\u001b[0m \u001b[0ma\u001b[0m \u001b[0;34m//\u001b[0m \u001b[0;36m3\u001b[0m\u001b[0;34m:\u001b[0m\u001b[0;34m\u001b[0m\u001b[0;34m\u001b[0m\u001b[0m\n\u001b[0m\u001b[1;32m      3\u001b[0m   \u001b[0mprint\u001b[0m\u001b[0;34m(\u001b[0m\u001b[0;34m\"Куртое число\"\u001b[0m\u001b[0;34m)\u001b[0m\u001b[0;34m\u001b[0m\u001b[0;34m\u001b[0m\u001b[0m\n\u001b[1;32m      4\u001b[0m \u001b[0;32melse\u001b[0m\u001b[0;34m:\u001b[0m\u001b[0;34m\u001b[0m\u001b[0;34m\u001b[0m\u001b[0m\n\u001b[1;32m      5\u001b[0m   \u001b[0mprint\u001b[0m\u001b[0;34m(\u001b[0m\u001b[0;34m\"Плохое число\"\u001b[0m\u001b[0;34m)\u001b[0m\u001b[0;34m\u001b[0m\u001b[0;34m\u001b[0m\u001b[0m\n",
            "\u001b[0;31mTypeError\u001b[0m: unsupported operand type(s) for //: 'str' and 'int'"
          ]
        }
      ]
    },
    {
      "cell_type": "code",
      "source": [
        "number = input()\n",
        "if int(number)% 3 == 0  and len(number)% 3 == 0:\n",
        "  print(\"Крутое\")\n",
        "else:\n",
        "  print(\"Не крутое число\")"
      ],
      "metadata": {
        "colab": {
          "base_uri": "https://localhost:8080/"
        },
        "id": "upepxdtvaxAW",
        "outputId": "a54f0b4c-9f8c-460c-8123-3ec92e758dcd"
      },
      "execution_count": 57,
      "outputs": [
        {
          "output_type": "stream",
          "name": "stdout",
          "text": [
            "1\n",
            "Крутое\n"
          ]
        }
      ]
    }
  ]
}