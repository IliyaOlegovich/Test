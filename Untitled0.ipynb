{
  "nbformat": 4,
  "nbformat_minor": 0,
  "metadata": {
    "colab": {
      "provenance": [],
      "authorship_tag": "ABX9TyMD8cej4kqWlGTm1+rFLZRa",
      "include_colab_link": true
    },
    "kernelspec": {
      "name": "python3",
      "display_name": "Python 3"
    },
    "language_info": {
      "name": "python"
    }
  },
  "cells": [
    {
      "cell_type": "markdown",
      "metadata": {
        "id": "view-in-github",
        "colab_type": "text"
      },
      "source": [
        "<a href=\"https://colab.research.google.com/github/IliyaOlegovich/Test/blob/main/Untitled0.ipynb\" target=\"_parent\"><img src=\"https://colab.research.google.com/assets/colab-badge.svg\" alt=\"Open In Colab\"/></a>"
      ]
    },
    {
      "cell_type": "code",
      "execution_count": null,
      "metadata": {
        "id": "8H8nwbxP20Dy"
      },
      "outputs": [],
      "source": []
    },
    {
      "cell_type": "markdown",
      "source": [],
      "metadata": {
        "id": "gdbLSzLq-psz"
      }
    },
    {
      "cell_type": "markdown",
      "source": [
        "Привет, я усваиваю Google collab"
      ],
      "metadata": {
        "id": "2vdSPpy9-sqq"
      }
    },
    {
      "cell_type": "code",
      "source": [
        "print (\"Hello World\")"
      ],
      "metadata": {
        "colab": {
          "base_uri": "https://localhost:8080/"
        },
        "id": "dN-7fdi4-4wx",
        "outputId": "dde92a55-83ad-48f1-f6ac-19bc228ef279"
      },
      "execution_count": 2,
      "outputs": [
        {
          "output_type": "stream",
          "name": "stdout",
          "text": [
            "Hello World\n"
          ]
        }
      ]
    },
    {
      "cell_type": "code",
      "source": [
        " print (\"Встаю с кровати\")\n",
        " print (\"Иду на кухню\")\n",
        " print (\"Ставлю чайник\")"
      ],
      "metadata": {
        "colab": {
          "base_uri": "https://localhost:8080/"
        },
        "id": "f_jVS8Ad_uoK",
        "outputId": "2dc18411-7275-458b-e7db-750b77595eec"
      },
      "execution_count": 5,
      "outputs": [
        {
          "output_type": "stream",
          "name": "stdout",
          "text": [
            "Встаю с кровати\n",
            "Иду на кухню\n",
            "Ставлю чайник\n"
          ]
        }
      ]
    },
    {
      "cell_type": "code",
      "source": [
        "name = \"Илья\"\n",
        "print(name)"
      ],
      "metadata": {
        "colab": {
          "base_uri": "https://localhost:8080/"
        },
        "id": "E2l70-fSAbNb",
        "outputId": "06798704-be10-4bbb-860f-d3f996907f2f"
      },
      "execution_count": 6,
      "outputs": [
        {
          "output_type": "stream",
          "name": "stdout",
          "text": [
            "Меня зовут Илья\n"
          ]
        }
      ]
    },
    {
      "cell_type": "code",
      "source": [
        "29//2"
      ],
      "metadata": {
        "colab": {
          "base_uri": "https://localhost:8080/"
        },
        "id": "5zVT7aOmBh_r",
        "outputId": "81c5d2ed-7b75-4e8e-b2c2-dd084de8b877"
      },
      "execution_count": 11,
      "outputs": [
        {
          "output_type": "execute_result",
          "data": {
            "text/plain": [
              "14"
            ]
          },
          "metadata": {},
          "execution_count": 11
        }
      ]
    },
    {
      "cell_type": "code",
      "source": [
        "+ - * / // %"
      ],
      "metadata": {
        "colab": {
          "base_uri": "https://localhost:8080/",
          "height": 130
        },
        "id": "NYCx9KSRB-yi",
        "outputId": "29506da3-67e2-4a7d-af21-442899fda9cc"
      },
      "execution_count": 12,
      "outputs": [
        {
          "output_type": "error",
          "ename": "SyntaxError",
          "evalue": "ignored",
          "traceback": [
            "\u001b[0;36m  File \u001b[0;32m\"<ipython-input-12-530a1ec82f12>\"\u001b[0;36m, line \u001b[0;32m1\u001b[0m\n\u001b[0;31m    + - * / // %\u001b[0m\n\u001b[0m        ^\u001b[0m\n\u001b[0;31mSyntaxError\u001b[0m\u001b[0;31m:\u001b[0m invalid syntax\n"
          ]
        }
      ]
    },
    {
      "cell_type": "code",
      "source": [
        "name = \"Sonya\"\n",
        "age = 24"
      ],
      "metadata": {
        "id": "ZkNsG1_fCNBr"
      },
      "execution_count": 14,
      "outputs": []
    },
    {
      "cell_type": "code",
      "source": [
        "print(\"Меня зовут\", name,\"Мой возраст -\", age)\n",
        "print (f\"Меня зовут {name}, мой возраст - {age}\")"
      ],
      "metadata": {
        "colab": {
          "base_uri": "https://localhost:8080/"
        },
        "id": "hfkWgpPrDlOc",
        "outputId": "cfab9518-4dd6-4caa-a821-b70208e0c0f1"
      },
      "execution_count": 16,
      "outputs": [
        {
          "output_type": "stream",
          "name": "stdout",
          "text": [
            "Меня зовут Sonya Мой возраст - 24\n",
            "Меня зовут Sonya, мой возраст - 24\n"
          ]
        }
      ]
    },
    {
      "cell_type": "code",
      "source": [
        "print(f\"2 * 2 = {2*2}\")"
      ],
      "metadata": {
        "colab": {
          "base_uri": "https://localhost:8080/"
        },
        "id": "YqmV7UmMEW3U",
        "outputId": "5d10fb57-4f64-462d-ac37-94f6fd5231fe"
      },
      "execution_count": 18,
      "outputs": [
        {
          "output_type": "stream",
          "name": "stdout",
          "text": [
            "2 * 2 = 4\n"
          ]
        }
      ]
    },
    {
      "cell_type": "code",
      "source": [
        "name1 = \"Конкатенация\"\n",
        "print(name1[0], name1[1], name1[5])\n",
        "print(name1[7], name1[8], name1[9], name1[10], name1[11] )"
      ],
      "metadata": {
        "colab": {
          "base_uri": "https://localhost:8080/"
        },
        "id": "bT753dinFGMl",
        "outputId": "78ad08bf-e05c-4fbd-d5c0-55a8da4fb245"
      },
      "execution_count": 20,
      "outputs": [
        {
          "output_type": "stream",
          "name": "stdout",
          "text": [
            "К о т\n",
            "н а ц и я\n"
          ]
        }
      ]
    },
    {
      "cell_type": "code",
      "source": [
        "cookie = \"Orio\"\n",
        "drink = \"Milk\"\n",
        "print(cookie+drink)"
      ],
      "metadata": {
        "colab": {
          "base_uri": "https://localhost:8080/"
        },
        "id": "4sobEvC2IBjt",
        "outputId": "923877ea-bc50-4035-c47a-1daee2892ff0"
      },
      "execution_count": 21,
      "outputs": [
        {
          "output_type": "stream",
          "name": "stdout",
          "text": [
            "OrioMilk\n"
          ]
        }
      ]
    },
    {
      "cell_type": "code",
      "source": [
        "name1 = \"Coca\"\n",
        "name2 = \"Cola\"\n",
        "print(name1+name2)"
      ],
      "metadata": {
        "colab": {
          "base_uri": "https://localhost:8080/"
        },
        "id": "IVcvJZdMIbl0",
        "outputId": "d5993968-372f-4ae1-e63c-a669241401fd"
      },
      "execution_count": 22,
      "outputs": [
        {
          "output_type": "stream",
          "name": "stdout",
          "text": [
            "CocaCola\n"
          ]
        }
      ]
    },
    {
      "cell_type": "code",
      "source": [
        "name = input(\"Ведите имя: \")\n",
        "print(f\"Вас зовут {name}!\")"
      ],
      "metadata": {
        "colab": {
          "base_uri": "https://localhost:8080/"
        },
        "id": "JsfpJoSUJX6d",
        "outputId": "75d0c710-0925-4b28-c0f6-feddabc7844c"
      },
      "execution_count": 23,
      "outputs": [
        {
          "output_type": "stream",
          "name": "stdout",
          "text": [
            "Ведите имя: Илья\n",
            "Вас зовут Илья!\n"
          ]
        }
      ]
    },
    {
      "cell_type": "code",
      "source": [
        "number = int(input(\"Введите любимое число: \"))\n",
        "print(number * 3)"
      ],
      "metadata": {
        "colab": {
          "base_uri": "https://localhost:8080/"
        },
        "id": "R9fw8eKcKEP9",
        "outputId": "abdedbad-6f6d-403c-fb09-7a65a9ca848f"
      },
      "execution_count": 25,
      "outputs": [
        {
          "output_type": "stream",
          "name": "stdout",
          "text": [
            "Введите любимое число: 12\n",
            "36\n"
          ]
        }
      ]
    },
    {
      "cell_type": "code",
      "source": [
        "print(\"I love python\"*100)"
      ],
      "metadata": {
        "colab": {
          "base_uri": "https://localhost:8080/"
        },
        "id": "dDgSTsBoK1fV",
        "outputId": "b0ad38af-e1ba-46d2-f3d8-c85494be3fd4"
      },
      "execution_count": 26,
      "outputs": [
        {
          "output_type": "stream",
          "name": "stdout",
          "text": [
            "I love pythonI love pythonI love pythonI love pythonI love pythonI love pythonI love pythonI love pythonI love pythonI love pythonI love pythonI love pythonI love pythonI love pythonI love pythonI love pythonI love pythonI love pythonI love pythonI love pythonI love pythonI love pythonI love pythonI love pythonI love pythonI love pythonI love pythonI love pythonI love pythonI love pythonI love pythonI love pythonI love pythonI love pythonI love pythonI love pythonI love pythonI love pythonI love pythonI love pythonI love pythonI love pythonI love pythonI love pythonI love pythonI love pythonI love pythonI love pythonI love pythonI love pythonI love pythonI love pythonI love pythonI love pythonI love pythonI love pythonI love pythonI love pythonI love pythonI love pythonI love pythonI love pythonI love pythonI love pythonI love pythonI love pythonI love pythonI love pythonI love pythonI love pythonI love pythonI love pythonI love pythonI love pythonI love pythonI love pythonI love pythonI love pythonI love pythonI love pythonI love pythonI love pythonI love pythonI love pythonI love pythonI love pythonI love pythonI love pythonI love pythonI love pythonI love pythonI love pythonI love pythonI love pythonI love pythonI love pythonI love pythonI love pythonI love pythonI love python\n"
          ]
        }
      ]
    },
    {
      "cell_type": "code",
      "source": [],
      "metadata": {
        "id": "1BV0rSzALpyV"
      },
      "execution_count": null,
      "outputs": []
    },
    {
      "cell_type": "code",
      "source": [
        "num = 2\n",
        "print(str(num)*100)"
      ],
      "metadata": {
        "id": "1cJ_6pYSLSVl"
      },
      "execution_count": null,
      "outputs": []
    },
    {
      "cell_type": "code",
      "source": [
        "//возьмите с клавы число 1\n",
        "//с клавы число 2\n",
        "//посчитайте их Сумму\n",
        "//выведите их сумму на экран 10 раз\n",
        "a=int(input())\n",
        "b=int(input())\n",
        "print(str(h*10))"
      ],
      "metadata": {
        "id": "OS9MdIwPLsNt"
      },
      "execution_count": null,
      "outputs": []
    },
    {
      "cell_type": "code",
      "source": [
        "a = int(input())\n",
        "b = int(input())\n",
        "print(str(a+b)*10)"
      ],
      "metadata": {
        "colab": {
          "base_uri": "https://localhost:8080/"
        },
        "id": "aQOLRJK3M2Im",
        "outputId": "04f0654d-9ab6-4c40-d485-f5c26e073e20"
      },
      "execution_count": 34,
      "outputs": [
        {
          "output_type": "stream",
          "name": "stdout",
          "text": [
            "2\n",
            "5\n",
            "7777777777\n"
          ]
        }
      ]
    },
    {
      "cell_type": "code",
      "source": [
        "love_broccoli = False\n",
        "love_broccoli_2 = True\n",
        "print(int(love_broccoli_2))"
      ],
      "metadata": {
        "colab": {
          "base_uri": "https://localhost:8080/"
        },
        "id": "Z6TT8x1PNqIm",
        "outputId": "55fc550b-03ba-49e3-d1b0-ef3c14ff0148"
      },
      "execution_count": 35,
      "outputs": [
        {
          "output_type": "stream",
          "name": "stdout",
          "text": [
            "1\n"
          ]
        }
      ]
    },
    {
      "cell_type": "code",
      "source": [
        "print(\"I love python\\n\"*100)"
      ],
      "metadata": {
        "colab": {
          "base_uri": "https://localhost:8080/"
        },
        "id": "3fh_CigMPrKP",
        "outputId": "e4a561fb-0275-444a-c7a9-318b3086e154"
      },
      "execution_count": 37,
      "outputs": [
        {
          "output_type": "stream",
          "name": "stdout",
          "text": [
            "I love python\n",
            "I love python\n",
            "I love python\n",
            "I love python\n",
            "I love python\n",
            "I love python\n",
            "I love python\n",
            "I love python\n",
            "I love python\n",
            "I love python\n",
            "I love python\n",
            "I love python\n",
            "I love python\n",
            "I love python\n",
            "I love python\n",
            "I love python\n",
            "I love python\n",
            "I love python\n",
            "I love python\n",
            "I love python\n",
            "I love python\n",
            "I love python\n",
            "I love python\n",
            "I love python\n",
            "I love python\n",
            "I love python\n",
            "I love python\n",
            "I love python\n",
            "I love python\n",
            "I love python\n",
            "I love python\n",
            "I love python\n",
            "I love python\n",
            "I love python\n",
            "I love python\n",
            "I love python\n",
            "I love python\n",
            "I love python\n",
            "I love python\n",
            "I love python\n",
            "I love python\n",
            "I love python\n",
            "I love python\n",
            "I love python\n",
            "I love python\n",
            "I love python\n",
            "I love python\n",
            "I love python\n",
            "I love python\n",
            "I love python\n",
            "I love python\n",
            "I love python\n",
            "I love python\n",
            "I love python\n",
            "I love python\n",
            "I love python\n",
            "I love python\n",
            "I love python\n",
            "I love python\n",
            "I love python\n",
            "I love python\n",
            "I love python\n",
            "I love python\n",
            "I love python\n",
            "I love python\n",
            "I love python\n",
            "I love python\n",
            "I love python\n",
            "I love python\n",
            "I love python\n",
            "I love python\n",
            "I love python\n",
            "I love python\n",
            "I love python\n",
            "I love python\n",
            "I love python\n",
            "I love python\n",
            "I love python\n",
            "I love python\n",
            "I love python\n",
            "I love python\n",
            "I love python\n",
            "I love python\n",
            "I love python\n",
            "I love python\n",
            "I love python\n",
            "I love python\n",
            "I love python\n",
            "I love python\n",
            "I love python\n",
            "I love python\n",
            "I love python\n",
            "I love python\n",
            "I love python\n",
            "I love python\n",
            "I love python\n",
            "I love python\n",
            "I love python\n",
            "I love python\n",
            "I love python\n",
            "\n"
          ]
        }
      ]
    }
  ]
}